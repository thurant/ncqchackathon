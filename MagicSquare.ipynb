{
 "cells": [
  {
   "cell_type": "code",
   "execution_count": 1,
   "metadata": {},
   "outputs": [],
   "source": [
    "from qiskit import *\n",
    "from qiskit.extensions import *\n",
    "from qiskit.transpiler import PassManager\n",
    "from qiskit.transpiler.passes import Unroller\n",
    "import numpy as np\n",
    "import math\n",
    "import cmath\n",
    "from IPython.core.display import HTML"
   ]
  },
  {
   "cell_type": "markdown",
   "metadata": {},
   "source": [
    "# Introduction\n",
    "\n",
    "This notebook explores the concept of entanglement in an experimental fashion similar to the previous page on Elitzur Vaidman Bombs, but instead through a game that you can play on this notebook, called the Magic Square Game. \n",
    "\n",
    "The Magic Square Game is based off of a concept known as Quantum Pseudo Telepathy. \n",
    "\n",
    "The term Quantum Pseudo Telepathy refers to the strategy of Quantum Entanglement. Quantum Entanglement and operators allows an individual to win a game even though a classical winning strategy is non-existent\n",
    "\n",
    "Two other important terms related to this concept are locality and reality. Here is a brief definition of each one.\n",
    "\n",
    "Locality: A theory that Einstein came up with suggesting that an occurrence at a particular location could not have an impact at another location within the time it would take for light to travel between the two locations. \n",
    "\n",
    "Realistic: Einstein claimed that there must be existence prior to measurement, in other words he believed something cannot be measured if it doesn't exist. \n",
    "\n",
    "On the other hand, Bohr claimed that measuring something brings about its existence which contrasted the idea of local reality.\n",
    "\n",
    "You might be wondering how this relates to the Magic Square Game. Implementations of Quantum Pseudo Telepathy games such as the Magic Square Game below contribute strong evidence against a local realistic world, if it can be won through quantum entanglement but not through any classical methods. \n",
    "\n",
    "Before beginning to play the game, a brief description of the game might help. \n",
    "\n",
    "Rules/Goal:\n",
    "\n",
    "1. Each of the squares in the 3 by 3 grid can be filled in with a 1 or a 0\n",
    "2. The sum of the rows must be even\n",
    "3. The sum of the columns must be odd\n",
    "4. A value at the intersection of a row and column must satisfy the above requirements for the row and column respectively\n",
    "\n",
    "Description: This simulation of the Magic Square Game is constructed from a circuit using qiskit. In this simulation the user will act as the referee for the players. Each player is assigned two qubits and from this an entangled state is created. Then the referee selects a row and column[input A, input B], based off of which player A and player B apply certain unitary transformations. Following this the qubits represenative of two of their column and row values are measured, and the players then decide upon a third value. If the goal for each round of the game mentioned above is achieved, the players have won the game. To truly win the game and attribute this to quantum entanglement rather than chance, the players must win ronuds continuosly, so the user can referee the game for multiple rounds in order to check this. Keep in mind also, that during the game the players are not discussing information regarding this, but rather using information that already exists from an earlier state of entanglement. \n",
    "\n",
    "Example & scope: To give this more of a classical context, imagine that there is an odd number total of each crickets, frogs, and snakes in a given region. However, there is always a shortage or excess of food required for each of these animals in this particular location. For this problem you can assume on average each cricket,frog,or snake must receive a single unit of food. Therefore when there is no shortage or excess, then the amount of food for each animal must be represented by an even number cause there is an odd number of each animal. A total can be displayed as a linear combination of n terms, this information can be shown in a 3 by 3 grid, where the column sums display quantities of food and the row sums display the number of each animal. However if each square in a 3 by 3 grid represents one of three total terms(either 1 or 0) whose linear combination forms the sum of total number of animals or the total amount of food, then it is impossible for this scenario to exist within the 3 by 3 grid, at least using classical mathematics. On the other hand, with a quantum approach, a “winning strategy” can be developed. So, if a random sequence of three terms, each either one or zeros is created for the linear combination of one animal and similarly a random linear combination of the food quantities is created, in both cases only using 0 and 1, and the sum of the food row is even while the column value representing the number of animals is odd, then the players(food and animals) win. Otherwise the food and animals would not balance each other. It is important that where the values intersect they match, as these are dependent variables. As crickets,frogs, and snakes are part of a food web, a change in the quantity of food available for crickets can impact the number of snakes. This example shows possible applications of this concept in fields such as Biology.\n"
   ]
  },
  {
   "cell_type": "markdown",
   "metadata": {},
   "source": [
    "# Playing the Game\n",
    "\n",
    "Instructions on playing the magic square game within this notebook:\n",
    "Note: The game can be played without opening the notebook locally, although features such as a generated Magic Square Visualization for each round and link at bottom may not work. \n",
    "1. After opening up the notebook, select the first cell and click \"Run\" from the menu above. \n",
    "2. If there is any output for that cell, it will be displayed beneath it. Following this the next cell will be selected. The first cell is just adding the packages, and the second cell provides an introduction to the material, followed by these instructions. \n",
    "3. Read through what each cell does,and continue to Run the circuit.\n",
    "4. After the game setup and creation of the initial state, a prompt will appear. Select a row number 1 through 3 for player A and hit enter.\n",
    "5. Similarly select a column number 1 through 3 for player B and hit enter.\n",
    "6. Continue to Run the cells. Stop after running the last cell. \n",
    "7. Notice if the players won the game, the word True will appear under the cell along with the Magic Square showing the intersection of their row and column comprised of the bit values\n",
    "8. Otherwise the word False will appear beneath the cell\n",
    "9. Once you have completed a round, click on the link at the bottom to play another round. It will take you to the point(Game Setup) where the game begins, but make sure to click on the cell again for it to run. If you do not have access to the link you can scroll directly to Game Setup. "
   ]
  },
  {
   "cell_type": "markdown",
   "metadata": {},
   "source": [
    "# Game Setup: Create the Measurement Operators\n",
    "\n",
    "[At this point, I am assuming the user knows what these operators are since they hopefully read the Introduction.]\n",
    "\n",
    "[We need to let the player know that the measurement operators only need to be created once per game.]"
   ]
  },
  {
   "cell_type": "code",
   "execution_count": 2,
   "metadata": {},
   "outputs": [],
   "source": [
    "# These are the unitary transformations that will be applied to each players qubits\n",
    "B3= np.array([[1,0,0,1],[-1,0,0,1],[0,1,1,0],[0,1,-1,0]])* (1/math.sqrt(2))\n",
    "B2 = np.array([[-1,1j,1,1j],[1,1j,1,-1j],[1,-1j,1,1j],[-1,-1j, 1,-1j]])*(1/2)\n",
    "B1 = np.array([[1j,-1j,1,1],[-1j,-1j,1,-1],[1,1,-1j,1j],[-1j,1j,1,1]])*(1/2)\n",
    "A3 = np.array([[-1,-1,-1,1],[1,1,-1,1],[1,-1,1,1],[1,-1,-1,-1]])*(1/2)\n",
    "A2 = np.array([[1j,1,1,1j],[-1j,1,-1,1j],[1j,1,-1,-1j],[-1j,1,1,-1j]])*(1/2)\n",
    "A1 = np.array([[1j,0,0,1],[0,-1j,1,0],[0,1j,1,0],[1,0,0,1j]])*(1/math.sqrt(2))\n",
    "unitariesA = [A1, A2, A3]\n",
    "unitariesB = [B1, B2, B3]"
   ]
  },
  {
   "cell_type": "markdown",
   "metadata": {},
   "source": [
    "<a id=\"play\"/>"
   ]
  },
  {
   "cell_type": "markdown",
   "metadata": {},
   "source": [
    "# 1. Select a row and column"
   ]
  },
  {
   "cell_type": "code",
   "execution_count": 3,
   "metadata": {},
   "outputs": [
    {
     "name": "stdout",
     "output_type": "stream",
     "text": [
      "Select a Row for Player A's entry. Enter 1,2, or 3 for the corresponding row: 1\n"
     ]
    }
   ],
   "source": [
    "questionA = int(input(\"Select a Row for Player A's entry. Enter 1,2, or 3 for the corresponding row: \"))"
   ]
  },
  {
   "cell_type": "code",
   "execution_count": 4,
   "metadata": {},
   "outputs": [
    {
     "name": "stdout",
     "output_type": "stream",
     "text": [
      "Select a Column for Player B's entry. Enter 1,2, or 3 for the corresponding column: 2\n"
     ]
    }
   ],
   "source": [
    "questionB = int(input(\"Select a Column for Player B's entry. Enter 1,2, or 3 for the corresponding column: \"))"
   ]
  },
  {
   "cell_type": "markdown",
   "metadata": {},
   "source": [
    "# 2. Create the initial state\n"
   ]
  },
  {
   "cell_type": "code",
   "execution_count": 5,
   "metadata": {},
   "outputs": [
    {
     "data": {
      "image/png": "[encoded data removed]",
      "text/plain": [
       "<Figure size 588.756x325.08 with 1 Axes>"
      ]
     },
     "execution_count": 5,
     "metadata": {},
     "output_type": "execute_result"
    }
   ],
   "source": [
    "q = QuantumRegister(4)\n",
    "\n",
    "# set register to 2 if we only want to measure one of the player's qubits\n",
    "#c = ClassicalRegister(2)\n",
    "\n",
    "# set register to 4 if we want to measure all of the qubits\n",
    "c = ClassicalRegister(4)\n",
    "\n",
    "circuit = QuantumCircuit(q,c)\n",
    "\n",
    "circuit.x(q[1:4])\n",
    "circuit.barrier()\n",
    "\n",
    "#This applies a Haddamard Gate to qubits 1 and 2 in the circuit\n",
    "circuit.h(q[0:2])\n",
    "\n",
    "# Following this, three CNOT gates are applied that create a maximum entangled state for the 4 qubits\n",
    "circuit.cx(q[0],q[1])\n",
    "circuit.cx(q[0],q[2])\n",
    "circuit.cx(q[1],q[3])\n",
    "\n",
    "# Add a barrier to ensure that system preparation is done before our measurement operators are applied\n",
    "circuit.barrier()\n",
    "\n",
    "# Display for the initial entangled state of the four qubits representing the two players\n",
    "circuit.draw(output='mpl')"
   ]
  },
  {
   "cell_type": "markdown",
   "metadata": {},
   "source": [
    "# 3. Player 1 Applies a Unitary Transformation\n",
    "\n",
    "[Add description for row selection]"
   ]
  },
  {
   "cell_type": "code",
   "execution_count": 7,
   "metadata": {},
   "outputs": [
    {
     "name": "stdout",
     "output_type": "stream",
     "text": [
      "You selected A1\n",
      "[[0.        +0.70710678j 0.        +0.j         0.        +0.j\n",
      "  0.70710678+0.j        ]\n",
      " [0.        +0.j         0.        -0.70710678j 0.70710678+0.j\n",
      "  0.        +0.j        ]\n",
      " [0.        +0.j         0.        +0.70710678j 0.70710678+0.j\n",
      "  0.        +0.j        ]\n",
      " [0.70710678+0.j         0.        +0.j         0.        +0.j\n",
      "  0.        +0.70710678j]]\n"
     ]
    }
   ],
   "source": [
    "# Selecting Row for Player 1\n",
    "selectedRowUnitary = unitariesA[questionA-1]\n",
    "\n",
    "circuit.unitary(selectedRowUnitary,q[2:4], 'A')\n",
    "circuit.barrier()\n",
    "print(\"You selected A{}\".format(questionA))"
   ]
  },
  {
   "cell_type": "markdown",
   "metadata": {},
   "source": [
    "# 4. Player 2 Applies a Unitary Transformation"
   ]
  },
  {
   "cell_type": "code",
   "execution_count": 8,
   "metadata": {},
   "outputs": [
    {
     "name": "stdout",
     "output_type": "stream",
     "text": [
      "You selected B2\n",
      "[[-0.5+0.j   0. +0.5j  0.5+0.j   0. +0.5j]\n",
      " [ 0.5+0.j   0. +0.5j  0.5+0.j   0. -0.5j]\n",
      " [ 0.5+0.j   0. -0.5j  0.5+0.j   0. +0.5j]\n",
      " [-0.5+0.j   0. -0.5j  0.5+0.j   0. -0.5j]]\n"
     ]
    }
   ],
   "source": [
    "# Selecting Row for Player 2\n",
    "selectedColumnUnitary = unitariesB[questionB-1]\n",
    "\n",
    "circuit.unitary(selectedColumnUnitary,q[0:2])\n",
    "circuit.barrier()\n",
    "print(\"You selected B{}\".format(questionB))"
   ]
  },
  {
   "cell_type": "code",
   "execution_count": 9,
   "metadata": {},
   "outputs": [
    {
     "data": {
      "image/png": "[encoded data removed]",
      "text/plain": [
       "<Figure size 1672.36x1408.68 with 1 Axes>"
      ]
     },
     "execution_count": 9,
     "metadata": {},
     "output_type": "execute_result"
    }
   ],
   "source": [
    "circuit.draw(output='mpl')"
   ]
  },
  {
   "cell_type": "markdown",
   "metadata": {},
   "source": [
    "# Measure the System"
   ]
  },
  {
   "cell_type": "code",
   "execution_count": 40,
   "metadata": {},
   "outputs": [
    {
     "name": "stdout",
     "output_type": "stream",
     "text": [
      "{'1000': 1}\n",
      "1000\n"
     ]
    }
   ],
   "source": [
    "# measure all of the qubits (be sure the ClassicalRegister was created w/ 4 qubits)\n",
    "circuit.measure(q,c)\n",
    "\n",
    "# Get a reference to the qasm simulator\n",
    "backend = Aer.get_backend('qasm_simulator')\n",
    "# Execute the circuit on the simulator\n",
    "job = execute(circuit, backend, shots=1)\n",
    "# Get the results\n",
    "result = job.result()\n",
    "# Returns counts\n",
    "counts = result.get_counts(circuit)\n",
    "print(counts)\n",
    "# TODO: validate that we have one and only one key\n",
    "bitstring = None\n",
    "for key in counts.keys():\n",
    "    bitstring = key\n",
    "# bitstring = counts.keys()\n",
    "print(bitstring)"
   ]
  },
  {
   "cell_type": "markdown",
   "metadata": {},
   "source": [
    "# Calculate Parity Bits\n",
    "\n",
    "[Player A should measure a specific two-qubit state such as 01. Player A then needs to determine which bit is need to ensure an even parity. Likewise, Player B should measure and then based on the result, determine which bit is needed for an odd parity.]"
   ]
  },
  {
   "cell_type": "code",
   "execution_count": 41,
   "metadata": {},
   "outputs": [
    {
     "name": "stdout",
     "output_type": "stream",
     "text": [
      "col: 001, row: 101\n"
     ]
    }
   ],
   "source": [
    "# starting from the left side of the bit string, bits 0 and 1 are for the row and 2 and 3 are for the column. \n",
    "# so bitstring 1001 would have row 10 and column 01\n",
    "# to make the row even we add a 1 to make the full row 101\n",
    "# to make the column odd we add a 0 to make the full column 010\n",
    "row = bitstring[0:2]\n",
    "col = bitstring[2:4]\n",
    "# TODO: this needs to be optimized, the casting is inefficient\n",
    "col3 = 0 if (int(col[0]) + int(col[1])) % 2 == 1 else 1\n",
    "row3 = 0 if (int(row[0]) + int(row[1])) % 2 == 0 else 1\n",
    "col =  col + str(col3)\n",
    "row =  row + str(row3)\n",
    "print('col: {}, row: {}'.format(col, row))\n"
   ]
  },
  {
   "cell_type": "markdown",
   "metadata": {},
   "source": [
    "# Comparing Bits\n",
    "\n",
    "[If player A chose row i and Player B chose column j, then the ith bit of Player A's bit string should match the jth bit of Player B's bit string. It would be cool if we could show this in a \"magic square\".]"
   ]
  },
  {
   "cell_type": "code",
   "execution_count": 42,
   "metadata": {},
   "outputs": [
    {
     "name": "stdout",
     "output_type": "stream",
     "text": [
      "True\n"
     ]
    },
    {
     "data": {
      "text/html": [
       "<table style=\"width:200px;height:200px;\"><tr><td style=\"text-align:center;\">1</td><td style=\"text-align:center;background-color:#99ff99;\">0</td><td style=\"text-align:center;\">1</td></tr><tr><td style=\"text-align:center;\">-</td><td style=\"text-align:center;\">0</td><td style=\"text-align:center;\">-</td></tr><tr><td style=\"text-align:center;\">-</td><td style=\"text-align:center;\">1</td><td style=\"text-align:center;\">-</td></tr></table>"
      ],
      "text/plain": [
       "<IPython.core.display.HTML object>"
      ]
     },
     "execution_count": 42,
     "metadata": {},
     "output_type": "execute_result"
    }
   ],
   "source": [
    "isSuccess = col[questionA-1] == row[questionB-1]\n",
    "html = ''\n",
    "print(isSuccess)\n",
    "if isSuccess:\n",
    "    html = '<table style=\"width:200px;height:200px;\">'\n",
    "    for i in range(1,4):\n",
    "        html = html + '<tr>'\n",
    "        for j in range(1,4):\n",
    "            html = html + '<td style=\"text-align:center;'\n",
    "            \n",
    "            if i == questionA and j == questionB:\n",
    "                html = html + 'background-color:#99ff99;\">'\n",
    "            else:\n",
    "                html = html + '\">'\n",
    "                \n",
    "            if i == questionA:\n",
    "                html = html + row[j-1]\n",
    "            elif j == questionB:\n",
    "                html = html + col[i-1]\n",
    "            else:\n",
    "                html = html + '-'\n",
    "            html = html + '</td>'\n",
    "        html = html + '</tr>'\n",
    "    html = html + '</table>'\n",
    "HTML(html)\n"
   ]
  },
  {
   "cell_type": "markdown",
   "metadata": {},
   "source": [
    "# Next Round\n",
    "\n",
    "[We should encourage the player to play another round and verify that the bits continue to match as they did in the last step. We can possibly use a link back up to the top to start the game again.]\n",
    "\n",
    "[Play another round](#play)"
   ]
  },
  {
   "cell_type": "markdown",
   "metadata": {},
   "source": [
    "# References\n",
    "\n",
    "[1] Gilles Brassard, Anne Broadbent, Alain Tapp, *Quantum Psuedo-Telepathy*, Foundations of Physics, Volume 35, Issue 11, 2005"
   ]
  },
  {
   "cell_type": "code",
   "execution_count": null,
   "metadata": {},
   "outputs": [],
   "source": []
  }
 ],
 "metadata": {
  "kernelspec": {
   "display_name": "Python 3",
   "language": "python",
   "name": "python3"
  },
  "language_info": {
   "codemirror_mode": {
    "name": "ipython",
    "version": 3
   },
   "file_extension": ".py",
   "mimetype": "text/x-python",
   "name": "python",
   "nbconvert_exporter": "python",
   "pygments_lexer": "ipython3",
   "version": "3.7.2"
  }
 },
 "nbformat": 4,
 "nbformat_minor": 2
}
