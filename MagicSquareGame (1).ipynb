{
 "cells": [
  {
   "cell_type": "code",
   "execution_count": 4,
   "metadata": {},
   "outputs": [],
   "source": [
    "from qiskit import *"
   ]
  },
  {
   "cell_type": "code",
   "execution_count": 5,
   "metadata": {},
   "outputs": [],
   "source": [
    "circuit = QuantumCircuit(4)"
   ]
  },
  {
   "cell_type": "code",
   "execution_count": 6,
   "metadata": {},
   "outputs": [
    {
     "data": {
      "text/plain": [
       "<qiskit.circuit.instructionset.InstructionSet at 0x250578c5c48>"
      ]
     },
     "execution_count": 6,
     "metadata": {},
     "output_type": "execute_result"
    }
   ],
   "source": [
    "#This applies a Haddamard Gate to qubit 0\n",
    "circuit.h(0)"
   ]
  },
  {
   "cell_type": "code",
   "execution_count": 7,
   "metadata": {},
   "outputs": [
    {
     "data": {
      "text/plain": [
       "<qiskit.circuit.instructionset.InstructionSet at 0x250578cab48>"
      ]
     },
     "execution_count": 7,
     "metadata": {},
     "output_type": "execute_result"
    }
   ],
   "source": [
    "# A second Haddamard Gate is applied to qubit 1\n",
    "circuit.h(1)"
   ]
  },
  {
   "cell_type": "code",
   "execution_count": 8,
   "metadata": {},
   "outputs": [
    {
     "data": {
      "text/plain": [
       "<qiskit.circuit.instructionset.InstructionSet at 0x25057876288>"
      ]
     },
     "execution_count": 8,
     "metadata": {},
     "output_type": "execute_result"
    }
   ],
   "source": [
    "# Following this three CNOT gates are applied that create a maximum entangled state for the 4 qubits\n",
    "circuit.cx(0,1)"
   ]
  },
  {
   "cell_type": "code",
   "execution_count": 9,
   "metadata": {},
   "outputs": [
    {
     "data": {
      "text/plain": [
       "<qiskit.circuit.instructionset.InstructionSet at 0x25057876e48>"
      ]
     },
     "execution_count": 9,
     "metadata": {},
     "output_type": "execute_result"
    }
   ],
   "source": [
    "circuit.cx(0,2)"
   ]
  },
  {
   "cell_type": "code",
   "execution_count": 10,
   "metadata": {},
   "outputs": [
    {
     "data": {
      "text/plain": [
       "<qiskit.circuit.instructionset.InstructionSet at 0x2505787c9c8>"
      ]
     },
     "execution_count": 10,
     "metadata": {},
     "output_type": "execute_result"
    }
   ],
   "source": [
    "circuit.cx(1,3)"
   ]
  },
  {
   "cell_type": "code",
   "execution_count": 11,
   "metadata": {},
   "outputs": [
    {
     "data": {
      "text/html": [
       "<pre style=\"word-wrap: normal;white-space: pre;background: #fff0;line-height: 1.1;font-family: &quot;Courier New&quot;,Courier,monospace\">     ┌───┐               \n",
       "q_0: ┤ H ├──■────■───────\n",
       "     ├───┤┌─┴─┐  │       \n",
       "q_1: ┤ H ├┤ X ├──┼────■──\n",
       "     └───┘└───┘┌─┴─┐  │  \n",
       "q_2: ──────────┤ X ├──┼──\n",
       "               └───┘┌─┴─┐\n",
       "q_3: ───────────────┤ X ├\n",
       "                    └───┘</pre>"
      ],
      "text/plain": [
       "     ┌───┐               \n",
       "q_0: ┤ H ├──■────■───────\n",
       "     ├───┤┌─┴─┐  │       \n",
       "q_1: ┤ H ├┤ X ├──┼────■──\n",
       "     └───┘└───┘┌─┴─┐  │  \n",
       "q_2: ──────────┤ X ├──┼──\n",
       "               └───┘┌─┴─┐\n",
       "q_3: ───────────────┤ X ├\n",
       "                    └───┘"
      ]
     },
     "execution_count": 11,
     "metadata": {},
     "output_type": "execute_result"
    }
   ],
   "source": [
    "# Display for the initial entangled state of the four qubits representing the two players\n",
    "circuit.draw()"
   ]
  },
  {
   "cell_type": "code",
   "execution_count": null,
   "metadata": {},
   "outputs": [],
   "source": []
  },
  {
   "cell_type": "code",
   "execution_count": null,
   "metadata": {},
   "outputs": [],
   "source": []
  },
  {
   "cell_type": "code",
   "execution_count": null,
   "metadata": {},
   "outputs": [],
   "source": []
  },
  {
   "cell_type": "code",
   "execution_count": null,
   "metadata": {},
   "outputs": [],
   "source": []
  },
  {
   "cell_type": "code",
   "execution_count": 12,
   "metadata": {},
   "outputs": [],
   "source": [
    "# \n",
    "from qiskit.extensions import UnitaryGate"
   ]
  },
  {
   "cell_type": "code",
   "execution_count": 13,
   "metadata": {},
   "outputs": [],
   "source": [
    "import numpy as np\n",
    "import math\n",
    "import cmath"
   ]
  },
  {
   "cell_type": "code",
   "execution_count": 26,
   "metadata": {},
   "outputs": [],
   "source": [
    "# These are the unitary transformations that will be applied to each players qubits\n",
    "unitB3= np.array([[1,0,0,1],[-1,0,0,1],[0,1,1,0],[0,-1,1,0]])* (1/math.sqrt(2))\n",
    "unitB2 = np.array([[-1,0 +1j,1,0 +1j],[1,0 +1j,1,0-1j],[1,0-1j,1,0 + 1j],[-1, 0-1j, 1,0-1j]])*(1/2)\n",
    "unitB1 = np.array([[1j,-1j,1,1],[-1j,-1j,1,-1],[1,1,-1j,1j],[-1j,1j,1,1]])*(1/2)\n",
    "unitA3 = np.array([[-1,-1,-1,1],[1,1,-1,1],[1,-1,1,1],[1,-1,-1,-1]])*(1/2)\n",
    "unitA2 = np.array([[0+1j,1,1,0+1j],[0-1j,1,-1,0+1j],[0+1j,1,-1,0-1j],[0-1j,1,1,0-1j]])*(1/2)\n",
    "unitA1 = np.array([[1j,0,0,1],[0,-1j,1,0],[0,1j,1,0],[1,0,0,1j]])*(1/math.sqrt(2))"
   ]
  },
  {
   "cell_type": "code",
   "execution_count": 27,
   "metadata": {},
   "outputs": [],
   "source": [
    "# This decomposes each of the matrices into gates\n",
    "decompB3 = UnitaryGate(unitB3)\n",
    "decompB2 = UnitaryGate(unitB2)\n",
    "decompB1 = UnitaryGate(unitB1)\n",
    "decompA3 = UnitaryGate(unitA3)\n",
    "decompA2 = UnitaryGate(unitA2)\n",
    "decompA1 = UnitaryGate(unitA1) "
   ]
  },
  {
   "cell_type": "code",
   "execution_count": 30,
   "metadata": {},
   "outputs": [
    {
     "name": "stdout",
     "output_type": "stream",
     "text": [
      "Select a Row for Player one's entries. Enter 1,2, or 3 for the corresponding row3\n"
     ]
    }
   ],
   "source": [
    "# Selecting Row for Player 1\n",
    "question = input(\"Select a Row for Player one's entry. Enter 1,2, or 3 for the corresponding row\")\n",
    "if questionA == 1:\n",
    "    circuit.decompA1(0,1)\n",
    "if questionA == 2: \n",
    "    circuit.decompA2(0,1)\n",
    "if questionA == 3:\n",
    "    circuit.decompA3(0,1)"
   ]
  },
  {
   "cell_type": "code",
   "execution_count": 31,
   "metadata": {},
   "outputs": [
    {
     "name": "stdout",
     "output_type": "stream",
     "text": [
      "Select a Row for Player two's entry. Enter 1,2, or 3 for the corresponding column.1\n"
     ]
    }
   ],
   "source": [
    "# Selecting Column for Player 2 \n",
    "question = input(\"Select a Row for Player two's entry. Enter 1,2, or 3 for the corresponding column.\")\n",
    "if questionB == 1:\n",
    "    transformation = circuit.decompB1(2,3)\n",
    "if questionB == 2:\n",
    "    transformation = circuit.decompB2(2,3)\n",
    "if questionB == 3:\n",
    "    transformation = circuit.decopmB3(2,3)\n",
    "    "
   ]
  },
  {
   "cell_type": "code",
   "execution_count": null,
   "metadata": {},
   "outputs": [],
   "source": [
    "if questionA == 1: \n",
    "    if questionB == 1: \n",
    "        \n",
    "    "
   ]
  }
 ],
 "metadata": {
  "kernelspec": {
   "display_name": "Python 3",
   "language": "python",
   "name": "python3"
  },
  "language_info": {
   "codemirror_mode": {
    "name": "ipython",
    "version": 3
   },
   "file_extension": ".py",
   "mimetype": "text/x-python",
   "name": "python",
   "nbconvert_exporter": "python",
   "pygments_lexer": "ipython3",
   "version": "3.7.4"
  }
 },
 "nbformat": 4,
 "nbformat_minor": 2
}
