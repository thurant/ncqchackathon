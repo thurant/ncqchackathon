{
 "cells": [
  {
   "cell_type": "code",
   "execution_count": 1,
   "metadata": {},
   "outputs": [
    {
     "ename": "ModuleNotFoundError",
     "evalue": "No module named 'numpy.core._multiarray_umath'",
     "output_type": "error",
     "traceback": [
      "\u001b[0;31m---------------------------------------------------------------------------\u001b[0m",
      "\u001b[0;31mModuleNotFoundError\u001b[0m                       Traceback (most recent call last)",
      "\u001b[0;31mModuleNotFoundError\u001b[0m: No module named 'numpy.core._multiarray_umath'"
     ]
    }
   ],
   "source": [
    "from qiskit import *\n",
    "from qiskit.extensions import *\n",
    "from qiskit.transpiler import PassManager\n",
    "from qiskit.transpiler.passes import Unroller\n",
    "import numpy as np\n",
    "import math\n",
    "import cmath\n",
    "from IPython.core.display import HTML"
   ]
  },
  {
   "cell_type": "markdown",
   "metadata": {},
   "source": [
    "# Introduction\n",
    "\n",
    "Concepts discussed in the field of quantum mechanics such as locality and reality have been a matter of discussion  since their introduction. Here is a brief definition of the terms: \n",
    "Locality: A theory that Einstein came up with suggesting that an occurrence at a particular location could not have an impact at another location within the time it would take for light to travel between the two locations. \n",
    "\n",
    "Realistic: Einstein claimed that there must be existence prior to measurement of that same something in his theory on Realism. However this was contrasting with opinions of Bohr who claimed that measuring something brings about its existence. However the idea of local reality was later disproved by Bell. In order to prove and disprove the idea of hidden local variables theoretical games were created to explore these concepts through comparison of classical and quantum strategies. An important concept related to this is Quantum Pseudo Telepathy. This concept refers to the idea that individuals that are separated by distance can still successfully win a communication game through quantum entanglement, even though a classical solution to the game is non-existent. This can be demonstrated through Mermin's Magic Square Game. \n",
    "\n",
    "Description: The Magic Square game is a theoretical game, in which a level of quantum entanglement between two players allows for a method to win the game. However, without this entanglement factor, it is impossible to win. The game allows for entanglement prior to when the two participants of the game must separate. At the beginning one player is asked to select values for one of the three rows and the other player selects values for one of the three columns that make up a 3 by 3 grid. The round is won if the sum of the column values is odd, the sum of the row values is even and the value that falls in the corresponding row and column, where they intersect, is the same in the response provided by both players. \n",
    "\n",
    "Example & scope: To give this more of a classical context, imagine that there is an odd number total of each crickets, frogs, and snakes in a given region. However, there is always a shortage or excess of food required for each of these animals in this particular location, and for this problem assuming on average each cricket,frog,or snake must receives its own unit of food,when there is not shortage or excess, then the amount of food must be represented by an even number. As a total can be displayed as a linear combination of n terms, this information can be shown in a 3 by 3 grid, where the column sums display quantities of food and the row sums display the number of each animal. Just to create a hypothetical situation, if twice as much food is required for each of these animals to survive, then the column sums should be even while the row sums should be odd. However if each square in a 3 by 3 grid represents one of three total terms(either 1 or 0) whose linear combination forms the sum of total number of animals or the total amount of food, then it is impossible for this scenario to exist within the 3 by 3 grid, at least using classical mathematics.  However with a quantum approach, a “winning strategy” can be developed. Each player chooses between a column and a row and if the number at the intersection is the same for both players, they win that round. So, if a random assortment of the linear combination of one animal is chosen by one player and a random linear combination of the food quantities is selected by another player, in both cases only using 0 and 1, where these values fit into a 3 by 3 grid. It is important that where the values intersect they match, as these are dependent variables. As crickets,frogs, and snakes are part of a food web, a change in the the quantity of food available for crickets can impact the number of snakes. When solving this using quantum theory and entanglement, two elements can be considered at a time, and this would be a plausible solution given it adds the element of time to the picture. It sort of explains patterns of life on earth, where there must be a balance even with shortanges and excess at any given moment.In this case it is possible for each round to be won. However in order to support this, the game must show almost all successes if not all in order to be considered a truly winning strategy. A circuit demonstrating this winning strategy is depicted below.\n",
    "\n",
    "\n",
    "Background and description of the magic square game"
   ]
  },
  {
   "cell_type": "markdown",
   "metadata": {},
   "source": [
    "# Playing the Game\n",
    "\n",
    "[Instructions on playing the magic square game within this notebook]"
   ]
  },
  {
   "cell_type": "markdown",
   "metadata": {},
   "source": [
    "# Game Setup: Create the Measurement Operators\n",
    "\n",
    "[At this point, I am assuming the user knows what these operators are since they hopefully read the Introduction.]\n",
    "\n",
    "[We need to let the player know that the measurement operators only need to be created once per game.]"
   ]
  },
  {
   "cell_type": "code",
   "execution_count": 2,
   "metadata": {},
   "outputs": [],
   "source": [
    "# These are the unitary transformations that will be applied to each players qubits\n",
    "unitB3= np.array([[1,0,0,1],[-1,0,0,1],[0,1,1,0],[0,1,-1,0]])* (1/math.sqrt(2))\n",
    "unitB2 = np.array([[-1,1j,1,1j],[1,1j,1,-1j],[1,-1j,1,1j],[-1,-1j, 1,-1j]])*(1/2)\n",
    "unitB1 = np.array([[1j,-1j,1,1],[-1j,-1j,1,-1],[1,1,-1j,1j],[-1j,1j,1,1]])*(1/2)\n",
    "unitA3 = np.array([[-1,-1,-1,1],[1,1,-1,1],[1,-1,1,1],[1,-1,-1,-1]])*(1/2)\n",
    "unitA2 = np.array([[1j,1,1,1j],[-1j,1,-1,1j],[1j,1,-1,-1j],[-1j,1,1,-1j]])*(1/2)\n",
    "unitA1 = np.array([[1j,0,0,1],[0,-1j,1,0],[0,1j,1,0],[1,0,0,1j]])*(1/math.sqrt(2))"
   ]
  },
  {
   "cell_type": "markdown",
   "metadata": {},
   "source": [
    "<a id=\"play\"/>"
   ]
  },
  {
   "cell_type": "markdown",
   "metadata": {},
   "source": [
    "# 1. Create the initial state\n"
   ]
  },
  {
   "cell_type": "code",
   "execution_count": 150,
   "metadata": {},
   "outputs": [
    {
     "data": {
      "image/png": "[encoded data removed]",
      "text/plain": [
       "<Figure size 588.756x325.08 with 1 Axes>"
      ]
     },
     "execution_count": 150,
     "metadata": {},
     "output_type": "execute_result"
    }
   ],
   "source": [
    "q = QuantumRegister(4)\n",
    "\n",
    "# set register to 2 if we only want to measure one of the player's qubits\n",
    "#c = ClassicalRegister(2)\n",
    "\n",
    "# set register to 4 if we want to measure all of the qubits\n",
    "c = ClassicalRegister(4)\n",
    "\n",
    "circuit = QuantumCircuit(q,c)\n",
    "\n",
    "circuit.x(q[1:4])\n",
    "circuit.barrier()\n",
    "\n",
    "#This applies a Haddamard Gate to qubits 1 and 2 in the circuit\n",
    "circuit.h(q[0:2])\n",
    "\n",
    "# Following this, three CNOT gates are applied that create a maximum entangled state for the 4 qubits\n",
    "circuit.cx(q[0],q[1])\n",
    "circuit.cx(q[0],q[2])\n",
    "circuit.cx(q[1],q[3])\n",
    "\n",
    "# Add a barrier to ensure that system preparation is done before our measurement operators are applied\n",
    "circuit.barrier()\n",
    "\n",
    "# Display for the initial entangled state of the four qubits representing the two players\n",
    "circuit.draw(output='mpl')"
   ]
  },
  {
   "cell_type": "code",
   "execution_count": 151,
   "metadata": {},
   "outputs": [],
   "source": [
    "# circuit.measure(q,c)\n",
    "# # Get a reference to the qasm simulator\n",
    "# backend = Aer.get_backend('qasm_simulator')\n",
    "# # Execute the circuit on the simulator\n",
    "# job = execute(circuit, backend, shots=1000)\n",
    "# # print(job)\n",
    "# # Get the results\n",
    "# result = job.result()\n",
    "# # Returns counts\n",
    "# counts = result.get_counts(circuit)\n",
    "# print(counts)"
   ]
  },
  {
   "cell_type": "markdown",
   "metadata": {},
   "source": [
    "# 2. Player 1 Selects a Row\n",
    "\n",
    "[Add description for row selection]"
   ]
  },
  {
   "cell_type": "code",
   "execution_count": 152,
   "metadata": {},
   "outputs": [
    {
     "name": "stdout",
     "output_type": "stream",
     "text": [
      "Select a Row for Player one's entry. Enter 1,2, or 3 for the corresponding row: 2\n",
      "You selected A2\n",
      "[[ 0. +0.5j  0.5+0.j   0.5+0.j   0. +0.5j]\n",
      " [ 0. -0.5j  0.5+0.j  -0.5+0.j   0. +0.5j]\n",
      " [ 0. +0.5j  0.5+0.j  -0.5+0.j   0. -0.5j]\n",
      " [ 0. -0.5j  0.5+0.j   0.5+0.j   0. -0.5j]]\n"
     ]
    }
   ],
   "source": [
    "# Selecting Row for Player 1\n",
    "questionA = int(input(\"Select a Row for Player one's entry. Enter 1,2, or 3 for the corresponding row: \"))\n",
    "selectedRowUnitary = None\n",
    "if questionA == 1:\n",
    "    selectedRowUnitary = unitA1\n",
    "if questionA == 2: \n",
    "    selectedRowUnitary = unitA2\n",
    "if questionA == 3:\n",
    "    selectedRowUnitary = unitA3\n",
    "circuit.unitary(selectedRowUnitary,q[2:4], 'A')\n",
    "circuit.barrier()\n",
    "print(\"You selected A{}\".format(questionA))\n",
    "print(selectedRowUnitary)"
   ]
  },
  {
   "cell_type": "code",
   "execution_count": 153,
   "metadata": {},
   "outputs": [
    {
     "name": "stdout",
     "output_type": "stream",
     "text": [
      "Select a Row for Player two's entry. Enter 1,2, or 3 for the corresponding column: 1\n",
      "You selected B1\n",
      "[[ 0. +0.5j  0. -0.5j  0.5+0.j   0.5+0.j ]\n",
      " [ 0. -0.5j  0. -0.5j  0.5+0.j  -0.5+0.j ]\n",
      " [ 0.5+0.j   0.5+0.j   0. -0.5j  0. +0.5j]\n",
      " [ 0. -0.5j  0. +0.5j  0.5+0.j   0.5+0.j ]]\n"
     ]
    }
   ],
   "source": [
    "# Selecting Row for Player 2\n",
    "questionB = int(input(\"Select a Row for Player two's entry. Enter 1,2, or 3 for the corresponding column: \"))\n",
    "selectedColumnUnitary = None\n",
    "if questionB == 1:\n",
    "    selectedColumnUnitary = unitB1\n",
    "if questionB == 2: \n",
    "    selectedColumnUnitary = unitB2\n",
    "if questionB == 3:\n",
    "    selectedColumnUnitary = unitB3\n",
    "circuit.unitary(selectedColumnUnitary,q[0:2])\n",
    "circuit.barrier()\n",
    "print(\"You selected B{}\".format(questionB))\n",
    "print(selectedColumnUnitary)"
   ]
  },
  {
   "cell_type": "code",
   "execution_count": 154,
   "metadata": {},
   "outputs": [],
   "source": [
    "# selectedUnitary = np.kron(selectedRowUnitary, selectedColumnUnitary)\n",
    "# print(selectedUnitary)\n",
    "# circuit.unitary(selectedUnitary, q)"
   ]
  },
  {
   "cell_type": "code",
   "execution_count": 155,
   "metadata": {},
   "outputs": [
    {
     "data": {
      "image/png": "[encoded data removed]",
      "text/plain": [
       "<Figure size 1672.36x686.28 with 1 Axes>"
      ]
     },
     "execution_count": 155,
     "metadata": {},
     "output_type": "execute_result"
    }
   ],
   "source": [
    "circuit.draw(output='mpl')"
   ]
  },
  {
   "cell_type": "markdown",
   "metadata": {},
   "source": [
    "# Unroll the circuit\n",
    "\n",
    "By unrolling the circuit we can see the gates the IBM will use to implement our circuit."
   ]
  },
  {
   "cell_type": "code",
   "execution_count": 156,
   "metadata": {},
   "outputs": [
    {
     "data": {
      "image/png": "[encoded data removed]",
      "text/plain": [
       "<Figure size 1612.16x325.08 with 1 Axes>"
      ]
     },
     "execution_count": 156,
     "metadata": {},
     "output_type": "execute_result"
    }
   ],
   "source": [
    "pass_ = Unroller(['u1','u2','u3', 'cx'])\n",
    "pm = PassManager(pass_)\n",
    "new_circuit = pm.run(circuit) \n",
    "new_circuit.draw(output='mpl')"
   ]
  },
  {
   "cell_type": "markdown",
   "metadata": {},
   "source": [
    "# Measure the System"
   ]
  },
  {
   "cell_type": "code",
   "execution_count": 202,
   "metadata": {},
   "outputs": [
    {
     "name": "stdout",
     "output_type": "stream",
     "text": [
      "{'1101': 1}\n",
      "1101\n"
     ]
    }
   ],
   "source": [
    "# measure all of the qubits (be sure the ClassicalRegister was created w/ 4 qubits)\n",
    "circuit.measure(q,c)\n",
    "\n",
    "# measure player A's qubits (be sure the ClassicalRegister was created w/ 2 qubits)\n",
    "#circuit.measure(q[0:2],c[0:2])\n",
    "\n",
    "\n",
    "# measure player B's qubits (be sure the ClassicalRegister was created w/ 2 qubits)\n",
    "#circuit.measure(q[2:4],c[2:4])\n",
    "\n",
    "# Get a reference to the qasm simulator\n",
    "backend = Aer.get_backend('qasm_simulator')\n",
    "# Execute the circuit on the simulator\n",
    "job = execute(circuit, backend, shots=1)\n",
    "# print(job)\n",
    "# Get the results\n",
    "result = job.result()\n",
    "# Returns counts\n",
    "counts = result.get_counts(circuit)\n",
    "print(counts)\n",
    "# TODO: validate that we have one and only one key\n",
    "bitstring = None\n",
    "for key in counts.keys():\n",
    "    bitstring = key\n",
    "# bitstring = counts.keys()\n",
    "print(bitstring)"
   ]
  },
  {
   "cell_type": "markdown",
   "metadata": {},
   "source": [
    "# Calculate Parity Bits\n",
    "\n",
    "[Player A should measure a specific two-qubit state such as 01. Player A then needs to determine which bit is need to ensure an even parity. Likewise, Player B should measure and then based on the result, determine which bit is needed for an odd parity.]"
   ]
  },
  {
   "cell_type": "code",
   "execution_count": 203,
   "metadata": {},
   "outputs": [
    {
     "name": "stdout",
     "output_type": "stream",
     "text": [
      "a: 010, b: 110\n"
     ]
    }
   ],
   "source": [
    "# starting from the right side of the bit string, bits 0 and 1 are for the row and 2 and 3 are for the column. \n",
    "a = bitstring[2:4]\n",
    "b = bitstring[0:2]\n",
    "# TODO: this needs to be optimized, the casting is inefficient\n",
    "a3 = 0 if (int(a[0]) + int(a[1])) % 2 == 1 else 1\n",
    "b3 = 0 if (int(b[0]) + int(b[1])) % 2 == 0 else 1\n",
    "a =  a + str(a3)\n",
    "b =  b + str(b3)\n",
    "print('a: {}, b: {}'.format(a, b))\n"
   ]
  },
  {
   "cell_type": "markdown",
   "metadata": {},
   "source": [
    "# Comparing Bits\n",
    "\n",
    "[If player A chose row i and Player B chose column j, then the ith bit of Player A's bit string should match the jth bit of Player B's bit string. It would be cool if we could show this in a \"magic square\".]"
   ]
  },
  {
   "cell_type": "code",
   "execution_count": 204,
   "metadata": {},
   "outputs": [
    {
     "name": "stdout",
     "output_type": "stream",
     "text": [
      "True\n"
     ]
    },
    {
     "data": {
      "text/html": [
       "<table style=\"width:200px;height:200px;\"><tr><td style=\"text-align:center;\">1</td><td style=\"text-align:center;\">-</td><td style=\"text-align:center;\">-</td></tr><tr><td style=\"text-align:center;background-color:#99ff99;\">0</td><td style=\"text-align:center;\">1</td><td style=\"text-align:center;\">0</td></tr><tr><td style=\"text-align:center;\">0</td><td style=\"text-align:center;\">-</td><td style=\"text-align:center;\">-</td></tr></table>"
      ],
      "text/plain": [
       "<IPython.core.display.HTML object>"
      ]
     },
     "execution_count": 204,
     "metadata": {},
     "output_type": "execute_result"
    }
   ],
   "source": [
    "# arev = a[::-1]\n",
    "# brev = b[::-1]\n",
    "arev = a\n",
    "brev = b\n",
    "\n",
    "isSuccess = arev[questionA-1] == brev[questionB-1]\n",
    "html = ''\n",
    "print(isSuccess)\n",
    "if isSuccess:\n",
    "    html = '<table style=\"width:200px;height:200px;\">'\n",
    "    for i in range(1,4):\n",
    "        html = html + '<tr>'\n",
    "        for j in range(1,4):\n",
    "            html = html + '<td style=\"text-align:center;'\n",
    "            \n",
    "            if i == questionA and j == questionB:\n",
    "                html = html + 'background-color:#99ff99;\">'\n",
    "            else:\n",
    "                html = html + '\">'\n",
    "                \n",
    "            if i == questionA:\n",
    "                html = html + arev[j-1]\n",
    "            elif j == questionB:\n",
    "                html = html + brev[i-1]\n",
    "            else:\n",
    "                html = html + '-'\n",
    "            html = html + '</td>'\n",
    "        html = html + '</tr>'\n",
    "    html = html + '</table>'\n",
    "HTML(html)\n"
   ]
  },
  {
   "cell_type": "markdown",
   "metadata": {},
   "source": [
    "# Next Round\n",
    "\n",
    "[We should encourage the player to play another round and verify that the bits continue to match as they did in the last step. We can possibly use a link back up to the top to start the game again.]\n",
    "\n",
    "[Play another round](#play)"
   ]
  },
  {
   "cell_type": "code",
   "execution_count": null,
   "metadata": {},
   "outputs": [],
   "source": []
  }
 ],
 "metadata": {
  "kernelspec": {
   "display_name": "Python 3",
   "language": "python",
   "name": "python3"
  },
  "language_info": {
   "codemirror_mode": {
    "name": "ipython",
    "version": 3
   },
   "file_extension": ".py",
   "mimetype": "text/x-python",
   "name": "python",
   "nbconvert_exporter": "python",
   "pygments_lexer": "ipython3",
   "version": "3.7.2"
  }
 },
 "nbformat": 4,
 "nbformat_minor": 2
}
