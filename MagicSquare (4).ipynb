{
 "cells": [
  {
   "cell_type": "code",
   "execution_count": 14,
   "metadata": {},
   "outputs": [],
   "source": [
    "from qiskit import *\n",
    "from qiskit.extensions import *\n",
    "from qiskit.transpiler import PassManager\n",
    "from qiskit.transpiler.passes import Unroller\n",
    "import numpy as np\n",
    "import math\n",
    "import cmath"
   ]
  },
  {
   "cell_type": "markdown",
   "metadata": {},
   "source": [
    "# Introduction\n",
    "\n",
    "Concepts discussed in the field of quantum mechanics such as locality and reality have been a matter of discussion  since their introduction. Here is a brief definition of the terms: \n",
    "Locality: A theory that Einstein came up with suggesting that an occurrence at a particular location could not have an impact at another location within the time it would take for light to travel between the two locations. \n",
    "\n",
    "Realistic: Einstein claimed that there must be existence prior to measurement of that same something in his theory on Realism. However this was contrasting with opinions of Bohr who claimed that measuring something brings about its existence. However the idea of local reality was later disproved by Bell. In order to prove and disprove the idea of hidden local variables theoretical games were created to explore these concepts through comparison of classical and quantum strategies. An important concept related to this is Quantum Pseudo Telepathy. This concept refers to the idea that individuals that are separated by distance can still successfully win a communication game through quantum entanglement, even though a classical solution to the game is non-existent. This can be demonstrated through Mermin's Magic Square Game. \n",
    "\n",
    "Description: The Magic Square game is a theoretical game, in which a level of quantum entanglement between two players allows for a method to win the game. However, without this entanglement factor, it is impossible to win. The game allows for entanglement prior to when the two participants of the game must separate. At the beginning one player is asked to select values for one of the three rows and the other player selects values for one of the three columns that make up a 3 by 3 grid. The round is won if the sum of the column values is odd, the sum of the row values is even and the value that falls in the corresponding row and column, where they intersect, is the same in the response provided by both players. \n",
    "\n",
    "Example & scope: To give this more of a classical context, imagine that there is an odd number total of each crickets, frogs, and snakes in a given region. However, there is always a shortage or excess of food required for each of these animals in this particular location, and for this problem assuming on average each cricket,frog,or snake must receives its own unit of food,when there is not shortage or excess, then the amount of food must be represented by an even number. As a total can be displayed as a linear combination of n terms, this information can be shown in a 3 by 3 grid, where the column sums display quantities of food and the row sums display the number of each animal. Just to create a hypothetical situation, if twice as much food is required for each of these animals to survive, then the column sums should be even while the row sums should be odd. However if each square in a 3 by 3 grid represents one of three total terms(either 1 or 0) whose linear combination forms the sum of total number of animals or the total amount of food, then it is impossible for this scenario to exist within the 3 by 3 grid, at least using classical mathematics.  However with a quantum approach, a “winning strategy” can be developed. Each player chooses between a column and a row and if the number at the intersection is the same for both players, they win that round. So, if a random assortment of the linear combination of one animal is chosen by one player and a random linear combination of the food quantities is selected by another player, in both cases only using 0 and 1, where these values fit into a 3 by 3 grid. It is important that where the values intersect they match, as these are dependent variables. As crickets,frogs, and snakes are part of a food web, a change in the the quantity of food available for crickets can impact the number of snakes. When solving this using quantum theory and entanglement, two elements can be considered at a time, and this would be a plausible solution given it adds the element of time to the picture. It sort of explains patterns of life on earth, where there must be a balance even with shortanges and excess at any given moment.In this case it is possible for each round to be won. However in order to support this, the game must show almost all successes if not all in order to be considered a truly winning strategy. A circuit demonstrating this winning strategy is depicted below.\n",
    "\n",
    "\n",
    "Background and description of the magic square game"
   ]
  },
  {
   "cell_type": "markdown",
   "metadata": {},
   "source": [
    "# Playing the Game\n",
    "\n",
    "[Instructions on playing the magic square game within this notebook]"
   ]
  },
  {
   "cell_type": "markdown",
   "metadata": {},
   "source": [
    "# Game Setup: Create the Measurement Operators\n",
    "\n",
    "[At this point, I am assuming the user knows what these operators are since they hopefully read the Introduction.]\n",
    "\n",
    "[We need to let the player know that the measurement operators only need to be created once per game.]"
   ]
  },
  {
   "cell_type": "code",
   "execution_count": 15,
   "metadata": {},
   "outputs": [],
   "source": [
    "# These are the unitary transformations that will be applied to each players qubits\n",
    "unitB3= np.array([[1,0,0,1],[-1,0,0,1],[0,1,1,0],[0,-1,1,0]])* (1/math.sqrt(2))\n",
    "unitB2 = np.array([[-1,1j,1,1j],[1,1j,1,-1j],[1,-1j,1,1j],[-1,-1j, 1,-1j]])*(1/2)\n",
    "unitB1 = np.array([[1j,-1j,1,1],[-1j,-1j,1,-1],[1,1,-1j,1j],[-1j,1j,1,1]])*(1/2)\n",
    "unitA3 = np.array([[-1,-1,-1,1],[1,1,-1,1],[1,-1,1,1],[1,-1,-1,-1]])*(1/2)\n",
    "unitA2 = np.array([[1j,1,1,1j],[-1j,1,-1,1j],[1j,1,-1,-1j],[-1j,1,1,-1j]])*(1/2)\n",
    "unitA1 = np.array([[1j,0,0,1],[0,-1j,1,0],[0,1j,1,0],[1,0,0,1j]])*(1/math.sqrt(2))"
   ]
  },
  {
   "cell_type": "markdown",
   "metadata": {},
   "source": [
    "<a id=\"play\"/>"
   ]
  },
  {
   "cell_type": "markdown",
   "metadata": {},
   "source": [
    "# 1. Create the initial state\n"
   ]
  },
  {
   "cell_type": "code",
   "execution_count": 16,
   "metadata": {},
   "outputs": [
    {
     "data": {
      "image/png": "[encoded data removed]",
      "text/plain": [
       "<Figure size 490.028x325.08 with 1 Axes>"
      ]
     },
     "execution_count": 16,
     "metadata": {},
     "output_type": "execute_result"
    }
   ],
   "source": [
    "q = QuantumRegister(4)\n",
    "\n",
    "# set register to 2 if we only want to measure one of the player's qubits\n",
    "#c = ClassicalRegister(2)\n",
    "\n",
    "# set register to 4 if we want to measure all of the qubits\n",
    "c = ClassicalRegister(4)\n",
    "\n",
    "circuit = QuantumCircuit(q,c)\n",
    "\n",
    "#This applies a Haddamard Gate to qubits 1 and 2 in the circuit\n",
    "circuit.h(q[0:2])\n",
    "\n",
    "# Following this, three CNOT gates are applied that create a maximum entangled state for the 4 qubits\n",
    "circuit.cx(q[0],q[1])\n",
    "circuit.cx(q[0],q[2])\n",
    "circuit.cx(q[1],q[3])\n",
    "\n",
    "# Add a barrier to ensure that system preparation is done before our measurement operators are applied\n",
    "circuit.barrier()\n",
    "\n",
    "# Display for the initial entangled state of the four qubits representing the two players\n",
    "circuit.draw(output='mpl')"
   ]
  },
  {
   "cell_type": "markdown",
   "metadata": {},
   "source": [
    "# 2. Player 1 Selects a Row\n",
    "\n",
    "[Add description for row selection]"
   ]
  },
  {
   "cell_type": "code",
   "execution_count": 18,
   "metadata": {},
   "outputs": [
    {
     "name": "stdout",
     "output_type": "stream",
     "text": [
      "Select a Row for Player one's entry. Enter 1,2, or 3 for the corresponding row: 2\n",
      "You selected A2\n",
      "[[ 0. +0.5j  0.5+0.j   0.5+0.j   0. +0.5j]\n",
      " [ 0. -0.5j  0.5+0.j  -0.5+0.j   0. +0.5j]\n",
      " [ 0. +0.5j  0.5+0.j  -0.5+0.j   0. -0.5j]\n",
      " [ 0. -0.5j  0.5+0.j   0.5+0.j   0. -0.5j]]\n"
     ]
    }
   ],
   "source": [
    "# Selecting Row for Player 1\n",
    "questionA = int(input(\"Select a Row for Player one's entry. Enter 1,2, or 3 for the corresponding row: \"))\n",
    "selectedRowUnitary = None\n",
    "if questionA == 1:\n",
    "    selectedRowUnitary = unitA1\n",
    "if questionA == 2: \n",
    "    selectedRowUnitary = unitA2\n",
    "if questionA == 3:\n",
    "    selectedRowUnitary = unitA3\n",
    "circuit.unitary(selectedRowUnitary,q[0:2])\n",
    "circuit.barrier()\n",
    "print(\"You selected A{}\".format(questionA))\n",
    "print(selectedRowUnitary)"
   ]
  },
  {
   "cell_type": "code",
   "execution_count": 19,
   "metadata": {},
   "outputs": [
    {
     "name": "stdout",
     "output_type": "stream",
     "text": [
      "Select a Row for Player two's entry. Enter 1,2, or 3 for the corresponding column: 1\n",
      "You selected B1\n",
      "[[ 0. +0.5j  0. -0.5j  0.5+0.j   0.5+0.j ]\n",
      " [ 0. -0.5j  0. -0.5j  0.5+0.j  -0.5+0.j ]\n",
      " [ 0.5+0.j   0.5+0.j   0. -0.5j  0. +0.5j]\n",
      " [ 0. -0.5j  0. +0.5j  0.5+0.j   0.5+0.j ]]\n"
     ]
    }
   ],
   "source": [
    "# Selecting Row for Player 2\n",
    "questionB = int(input(\"Select a Row for Player two's entry. Enter 1,2, or 3 for the corresponding column: \"))\n",
    "selectedColumnUnitary = None\n",
    "if questionB == 1:\n",
    "    selectedColumnUnitary = unitB1\n",
    "if questionB == 2: \n",
    "    selectedColumnUnitary = unitB2\n",
    "if questionB == 3:\n",
    "    selectedColumnUnitary = unitB3\n",
    "circuit.unitary(selectedColumnUnitary,q[2:4])\n",
    "circuit.barrier()\n",
    "print(\"You selected B{}\".format(questionB))\n",
    "print(selectedColumnUnitary)"
   ]
  },
  {
   "cell_type": "code",
   "execution_count": null,
   "metadata": {},
   "outputs": [],
   "source": [
    "circuit.draw(output='mpl')"
   ]
  },
  {
   "cell_type": "markdown",
   "metadata": {},
   "source": [
    "# Unroll the circuit\n",
    "\n",
    "By unrolling the circuit we can see the gates the IBM will use to implement our circuit."
   ]
  },
  {
   "cell_type": "code",
   "execution_count": 20,
   "metadata": {},
   "outputs": [
    {
     "data": {
      "image/png": "[encoded data removed]",
      "text/plain": [
       "<Figure size 1694.03x686.28 with 1 Axes>"
      ]
     },
     "execution_count": 20,
     "metadata": {},
     "output_type": "execute_result"
    }
   ],
   "source": [
    "pass_ = Unroller(['u1','u2','u3', 'cx'])\n",
    "pm = PassManager(pass_)\n",
    "new_circuit = pm.run(circuit) \n",
    "new_circuit.draw(output='mpl')"
   ]
  },
  {
   "cell_type": "markdown",
   "metadata": {},
   "source": [
    "# Measure the System"
   ]
  },
  {
   "cell_type": "code",
   "execution_count": 74,
   "metadata": {},
   "outputs": [
    {
     "name": "stdout",
     "output_type": "stream",
     "text": [
      "<qiskit.providers.aer.aerjob.AerJob object at 0x00000265B8099308>\n",
      "dict_keys(['0111'])\n"
     ]
    }
   ],
   "source": [
    "# measure all of the qubits (be sure the ClassicalRegister was created w/ 4 qubits)\n",
    "#circuit.measure(q,c)\n",
    "\n",
    "# measure player A's qubits (be sure the ClassicalRegister was created w/ 2 qubits)\n",
    "a = circuit.measure(q[0:2],c[0:2])\n",
    "\n",
    "\n",
    "# measure player B's qubits (be sure the ClassicalRegister was created w/ 2 qubits)\n",
    "#b = circuit.measure(q[2:4],c[2:4])\n",
    "\n",
    "# Get a reference to the qasm simulator\n",
    "backend = Aer.get_backend('qasm_simulator')\n",
    "# Execute the circuit on the simulator\n",
    "job = execute(circuit, backend, shots=1)\n",
    "print(job)\n",
    "# Get the results\n",
    "result = job.result()\n",
    "# Returns counts\n",
    "counts = result.get_counts(circuit)\n",
    "bitstring = counts.keys()\n",
    "print(bitstring)"
   ]
  },
  {
   "cell_type": "markdown",
   "metadata": {},
   "source": [
    "# Calculate Parity Bits\n",
    "\n",
    "[Player A should measure a specific two-qubit state such as 01. Player A then needs to determine which bit is need to ensure an even parity. Likewise, Player B should measure and then based on the result, determine which bit is needed for an odd parity.]"
   ]
  },
  {
   "cell_type": "code",
   "execution_count": 70,
   "metadata": {},
   "outputs": [],
   "source": [
    "# starting from the right side of the bit string, bits 0 and 1 are for the row and 2 and 3 are for the column. \n",
    "#A = result(a) #mod 2 == 0 ? 0 : 1\n",
    "#B = result(b) #mod 2 == 1 ? 0 : 1\n",
    "#print(a)\n",
    "#print(b)\n",
    "#if ( int(c[0]) + int(c[1]))%2 == 0:\n",
    "    #PlayerAchoice == 0\n",
    "#else:\n",
    "    #PlayerAchoice == 1\n",
    "#if (int(c[2]) + int(c[3]))%2 == 0:\n",
    "    #PlayerBchoice == 1\n",
    "#else:\n",
    "    #PlayerBchoice == 0\n",
    "#registersA = circuit.clbits[0:2]\n",
    "#registersB = circuit.clbits[2:4]\n",
    "#print(registersA)\n",
    "#print(registersB)\n",
    "if bitstring == '1100':\n",
    "    value == 1"
   ]
  },
  {
   "cell_type": "code",
   "execution_count": 45,
   "metadata": {},
   "outputs": [
    {
     "ename": "ModuleNotFoundError",
     "evalue": "No module named 'qiskit_textbook'",
     "output_type": "error",
     "traceback": [
      "\u001b[1;31m---------------------------------------------------------------------------\u001b[0m",
      "\u001b[1;31mModuleNotFoundError\u001b[0m                       Traceback (most recent call last)",
      "\u001b[1;32m<ipython-input-45-084b4d012b5a>\u001b[0m in \u001b[0;36m<module>\u001b[1;34m\u001b[0m\n\u001b[1;32m----> 1\u001b[1;33m \u001b[1;32mfrom\u001b[0m \u001b[0mqiskit_textbook\u001b[0m\u001b[1;33m.\u001b[0m\u001b[0mwidgets\u001b[0m \u001b[1;32mimport\u001b[0m \u001b[0mbinary_widget\u001b[0m\u001b[1;33m\u001b[0m\u001b[1;33m\u001b[0m\u001b[0m\n\u001b[0m\u001b[0;32m      2\u001b[0m \u001b[0mbinary_widget\u001b[0m\u001b[1;33m(\u001b[0m\u001b[0mnbits\u001b[0m \u001b[1;33m=\u001b[0m \u001b[1;36m5\u001b[0m\u001b[1;33m)\u001b[0m\u001b[1;33m\u001b[0m\u001b[1;33m\u001b[0m\u001b[0m\n",
      "\u001b[1;31mModuleNotFoundError\u001b[0m: No module named 'qiskit_textbook'"
     ]
    }
   ],
   "source": [
    "from qiskit_textbook.widgets import binary_widget\n",
    "binary_widget(nbits = 5)"
   ]
  },
  {
   "cell_type": "markdown",
   "metadata": {},
   "source": [
    "# Comparing Bits\n",
    "\n",
    "[If player A chose row i and Player B chose column j, then the ith bit of Player A's bit string should match the jth bit of Player B's bit string. It would be cool if we could show this in a \"magic square\".]"
   ]
  },
  {
   "cell_type": "code",
   "execution_count": null,
   "metadata": {},
   "outputs": [],
   "source": [
    "# a_n represents row n. Column 1 in row n is index 0 (starting from right side of bit string)\n",
    "if \n",
    "# b_n represents column n. Row 1 in column n is index 0 (starting from right side of bit string)"
   ]
  },
  {
   "cell_type": "markdown",
   "metadata": {},
   "source": [
    "# Next Round\n",
    "\n",
    "[We should encourage the player to play another round and verify that the bits continue to match as they did in the last step. We can possibly use a link back up to the top to start the game again.]\n",
    "\n",
    "[Play another round](#play)"
   ]
  },
  {
   "cell_type": "code",
   "execution_count": null,
   "metadata": {},
   "outputs": [],
   "source": []
  }
 ],
 "metadata": {
  "kernelspec": {
   "display_name": "Python 3",
   "language": "python",
   "name": "python3"
  },
  "language_info": {
   "codemirror_mode": {
    "name": "ipython",
    "version": 3
   },
   "file_extension": ".py",
   "mimetype": "text/x-python",
   "name": "python",
   "nbconvert_exporter": "python",
   "pygments_lexer": "ipython3",
   "version": "3.7.4"
  }
 },
 "nbformat": 4,
 "nbformat_minor": 2
}
